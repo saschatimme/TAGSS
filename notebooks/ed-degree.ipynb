{
 "cells": [
  {
   "cell_type": "markdown",
   "metadata": {},
   "source": [
    "# Euclidean Distance Degree"
   ]
  },
  {
   "cell_type": "markdown",
   "metadata": {},
   "source": [
    "A real algebraic variety is the common zero set of polynomials $f_1, \\ldots, f_m \\in \\mathbb{R}[x_1,\\ldots,x_n]$ denoted by $V(f_1,\\ldots,f_m)$.\n",
    "\n",
    "Consider the distance from a point $u \\in \\mathbb{R}^n$ to the variety $X=V(f_1,\\ldots,f_m)$. What is the nearest point on $X$ to $u$ with respect to the euclidean distance? How many critical points are there? If we count the number of critical points over the complex numbers then this number will almost always be the same. It is called the *Euclidean distance degree* of $X$. "
   ]
  },
  {
   "cell_type": "markdown",
   "metadata": {},
   "source": [
    "<figure>\n",
    "<img src=\"images/ed.png\" alt=\"ED\" style=\"width: 500px;\"/>\n",
    "<figcaption style=\"color:DIMGRAY\">The real critical points of the euclidean distance function for the point $u= [-0.32, -0.1]$\n",
    "    and $X=V((x^4 + y^4 - 1)(x^2 + y^2 - 2) + x^5y)$</figcaption>\n",
    "</figure>"
   ]
  },
  {
   "cell_type": "markdown",
   "metadata": {},
   "source": [
    " In the following we want so show **you** can solve this problem on your own using techniques from numerical algebraic geometry."
   ]
  },
  {
   "cell_type": "markdown",
   "metadata": {},
   "source": [
    "For a given $u \\in \\mathbb{R}^n$ and $X=V(f_1,\\ldots, f_m)$ we want to solve the problem:\n",
    "\n",
    "$$\\min =||x-u||_2=:d_u(x) \\quad \\text{subject to} \\quad x \\in X$$"
   ]
  },
  {
   "cell_type": "markdown",
   "metadata": {},
   "source": [
    "Considering the geometry of the problem  you can see that a point $x^*$ is a critical point of $d_u$ if and only if\n",
    "$x^* - u$ is orthogonal to the tangent space of $X$ at $x^*$, or formally\n",
    "        \\begin{equation}(x^* - u) \\perp T_{(x^*)}X \\,.\\end{equation}"
   ]
  },
  {
   "cell_type": "markdown",
   "metadata": {},
   "source": [
    "**Exercise**: Write down definining equations for our problem."
   ]
  },
  {
   "cell_type": "markdown",
   "metadata": {},
   "source": [
    "<details>\n",
    " <summary>A solution:</summary>\n",
    "    Assume X=$V(f_1,\\ldots, f_m)$ and $\\dim(X)=n-m$. Let $J(x)$ the Jacobian of $f=(f_1,\\ldots, f_m)$ where the $i$-th row consists of the partial derivatives of $f_i$.\n",
    "    Then, critical points satisfy the equations\n",
    "    $$x-u =J(x)^T \\lambda$$\n",
    "        $$f(x) = 0$$\n",
    "            $$\\lambda \\in \\mathbb{R}^m$$\n",
    "    Note: These are the same equations you get from applying Lagrange multipliers to the optimization problem. Why?\n",
    " </details>"
   ]
  },
  {
   "cell_type": "markdown",
   "metadata": {},
   "source": [
    "Now that we have the defining equations for our problem let's solve it using [HomotopyContinuation.jl](https://www.juliahomotopycontinuation.org)."
   ]
  },
  {
   "cell_type": "code",
   "execution_count": null,
   "metadata": {},
   "outputs": [],
   "source": [
    "# load HomotopyContinuation.jl\n",
    "using HomotopyContinuation"
   ]
  },
  {
   "cell_type": "markdown",
   "metadata": {},
   "source": [
    "To make our life easier we are already provided with some helper functions by the `TAGSS` package."
   ]
  },
  {
   "cell_type": "code",
   "execution_count": null,
   "metadata": {},
   "outputs": [],
   "source": [
    "# load the TAGSS helper package\n",
    "using TAGSS"
   ]
  },
  {
   "cell_type": "markdown",
   "metadata": {},
   "source": [
    "We start by definining a variety. Let's take the variety from the beginning:\n",
    "$$V((x^4 + y^4 - 1)(x^2 + y^2 - 2) + x^5y)$$"
   ]
  },
  {
   "cell_type": "code",
   "execution_count": null,
   "metadata": {},
   "outputs": [],
   "source": [
    "# We can define variables like this\n",
    "@polyvar x y"
   ]
  },
  {
   "cell_type": "markdown",
   "metadata": {},
   "source": [
    "Now let's set $f$ to the polynomial $(x^4 + y^4 - 1)(x^2 + y^2 - 2) + x^5y$"
   ]
  },
  {
   "cell_type": "code",
   "execution_count": null,
   "metadata": {},
   "outputs": [],
   "source": [
    "# TODO: Define f"
   ]
  },
  {
   "cell_type": "markdown",
   "metadata": {},
   "source": [
    "Let's visualize $V(f)$ to see whether we got it right. "
   ]
  },
  {
   "cell_type": "code",
   "execution_count": null,
   "metadata": {},
   "outputs": [],
   "source": [
    "visualize(f, show_axis=true, scene_resolution=(500,500), x_min=-2, x_max=2)"
   ]
  },
  {
   "cell_type": "markdown",
   "metadata": {},
   "source": [
    "Now we need to define the critical equations:"
   ]
  },
  {
   "cell_type": "code",
   "execution_count": null,
   "metadata": {},
   "outputs": [],
   "source": [
    "# we define new variables u₁, u₂ and λ₁\n",
    "@polyvar u[1:2] λ[1:1]\n",
    "# define the jacobian of F\n",
    "J = differentiate([f], [x,y])\n",
    "# J' defines the transpose of J\n",
    "# TODO: Set F to be the critical equations\n",
    "F = "
   ]
  },
  {
   "cell_type": "markdown",
   "metadata": {},
   "source": [
    "The TAGSS package can also generate equations for you with\n",
    "```julia\n",
    "F, u = eq_equations(f)\n",
    "```"
   ]
  },
  {
   "cell_type": "markdown",
   "metadata": {},
   "source": [
    "Now that we have our equations let's define the point $u_0=[-0.32, -0.1]$"
   ]
  },
  {
   "cell_type": "code",
   "execution_count": null,
   "metadata": {},
   "outputs": [],
   "source": [
    "# TODO: Define the point u₀\n",
    "u₀ = "
   ]
  },
  {
   "cell_type": "markdown",
   "metadata": {},
   "source": [
    "Our equation $F$ is still parameterized by $u$. So we have to make the substitution $u \\Rightarrow u_0$."
   ]
  },
  {
   "cell_type": "code",
   "execution_count": null,
   "metadata": {},
   "outputs": [],
   "source": [
    "F_u₀ = [subs(f, u => u₀) for f in F]"
   ]
  },
  {
   "cell_type": "markdown",
   "metadata": {},
   "source": [
    "$F_{u_0}$ is now a polynomial system of 3 equations in 3 unknowns. Homotopy continuation methods allow us to compute *all* solutions of this polynomial system. These methods first compute all solution over the *complex numbers*. Here we use the `solve` routine from HomotopyContinuation.jl as a black-box. You can find more background information on this method in the [How does it work?](https://www.juliahomotopycontinuation.org/guides/how-does-it-work/) guide on the [HomotopyContinuation.jl homepage](https://www.juliahomotopycontinuation.org)."
   ]
  },
  {
   "cell_type": "code",
   "execution_count": null,
   "metadata": {},
   "outputs": [],
   "source": [
    "res = solve(F_u₀)"
   ]
  },
  {
   "cell_type": "markdown",
   "metadata": {},
   "source": [
    "We find that our problem has **36** solutions over the complex numbers (which is also the generic number of solutions).\n",
    "Thus the *Euclidean distance degree* is 36.\n",
    "Furthermore we can see that there are **8** real solutions.\n",
    "\n",
    "Now let's extract the real points."
   ]
  },
  {
   "cell_type": "code",
   "execution_count": null,
   "metadata": {},
   "outputs": [],
   "source": [
    "# Let's get all real solutions\n",
    "real_sols = real_solutions(res)\n",
    "# We have to remove our artifical variable λ₁\n",
    "ed_points = map(p -> p[1:2], real_sols)"
   ]
  },
  {
   "cell_type": "markdown",
   "metadata": {},
   "source": [
    "Now let's find the optimal solution:"
   ]
  },
  {
   "cell_type": "code",
   "execution_count": null,
   "metadata": {},
   "outputs": [],
   "source": [
    "using LinearAlgebra\n",
    "\n",
    "dist, idx = findmin([norm(x - u) for x in ed_points])\n",
    "println(\"Optimal solution: \", ed_points[idx], \" with distance \", sqrt(dist), \" to u₀\")"
   ]
  },
  {
   "cell_type": "markdown",
   "metadata": {},
   "source": [
    "We can also visualize our solutions:"
   ]
  },
  {
   "cell_type": "code",
   "execution_count": null,
   "metadata": {},
   "outputs": [],
   "source": [
    "visualize_ed(f, u₀, ed_points; show_axis=true, scene_resolution=(600,600))"
   ]
  },
  {
   "cell_type": "markdown",
   "metadata": {},
   "source": [
    "Great! This looks like our picture from the beginning."
   ]
  },
  {
   "cell_type": "markdown",
   "metadata": {},
   "source": [
    "## Surfaces in $\\mathbb{R}^3$"
   ]
  },
  {
   "cell_type": "markdown",
   "metadata": {},
   "source": [
    "The TAGSS package also provides us with the possibility to visualize surfaces in $\\mathbb{R}^3$."
   ]
  },
  {
   "cell_type": "code",
   "execution_count": null,
   "metadata": {},
   "outputs": [],
   "source": [
    "@polyvar x y z\n",
    "g = (0.3*x^2+0.5z-0.3x+1.2*y^2-1.1)^2+(0.7*(y+0.5x)^2+y+1.2*z^2-1)^2-0.3"
   ]
  },
  {
   "cell_type": "markdown",
   "metadata": {},
   "source": [
    "Let's visualize the surface:"
   ]
  },
  {
   "cell_type": "code",
   "execution_count": null,
   "metadata": {},
   "outputs": [],
   "source": [
    "visualize(g; wireframe=true, scene_resolution=(600,600)) #you can also set wireframe=false to see a colored version of the surface"
   ]
  },
  {
   "cell_type": "markdown",
   "metadata": {},
   "source": [
    "Let's pick a point in $\\mathbb{R}^3$"
   ]
  },
  {
   "cell_type": "code",
   "execution_count": null,
   "metadata": {},
   "outputs": [],
   "source": [
    "u₀ = [0.5, 2.5, -1.2]"
   ]
  },
  {
   "cell_type": "markdown",
   "metadata": {},
   "source": [
    "Now `TAGSS` also provides the black box routine `ed` to compute all real critical points. So let us be a little bit lazy and just use this function."
   ]
  },
  {
   "cell_type": "code",
   "execution_count": null,
   "metadata": {},
   "outputs": [],
   "source": [
    "ed_pts = ed(g, u₀)"
   ]
  },
  {
   "cell_type": "markdown",
   "metadata": {},
   "source": [
    "And let's visualize them:"
   ]
  },
  {
   "cell_type": "code",
   "execution_count": null,
   "metadata": {},
   "outputs": [],
   "source": [
    "visualize_ed(g, u₀, ed_pts; show_axis=false, scene_resolution=(800,800))"
   ]
  },
  {
   "cell_type": "markdown",
   "metadata": {},
   "source": [
    "You should also be able to get a rotating 3D picture from"
   ]
  },
  {
   "cell_type": "code",
   "execution_count": null,
   "metadata": {},
   "outputs": [],
   "source": [
    "display(visualize_ed(g, u₀, ed_pts; show_axis=false, scene_resolution=(800,800)));"
   ]
  },
  {
   "cell_type": "markdown",
   "metadata": {},
   "source": [
    "## Exercises"
   ]
  },
  {
   "cell_type": "markdown",
   "metadata": {},
   "source": [
    "1) Compute the ED Degree for your favourite curve or surface and visualize it."
   ]
  },
  {
   "cell_type": "markdown",
   "metadata": {},
   "source": [
    "2) If $X=V(f_1,\\ldots,f_m)$ is not a complete intersection, i.e., $\\dim(X) > n - m$ the formulation\n",
    " $$\\begin{align}x-u &=J(x)^T \\lambda  \\\\ f(x) &= 0 \\\\ \\lambda &\\in \\mathbb{C}^m \\end{align}$$\n",
    "    doesn't describe a zero dimensional solution set any more. Why? How can you fix this?"
   ]
  }
 ],
 "metadata": {
  "@webio": {
   "lastCommId": null,
   "lastKernelId": null
  },
  "kernelspec": {
   "display_name": "Julia 1.1.0",
   "language": "julia",
   "name": "julia-1.1"
  },
  "language_info": {
   "file_extension": ".jl",
   "mimetype": "application/julia",
   "name": "julia",
   "version": "1.1.0"
  }
 },
 "nbformat": 4,
 "nbformat_minor": 2
}
